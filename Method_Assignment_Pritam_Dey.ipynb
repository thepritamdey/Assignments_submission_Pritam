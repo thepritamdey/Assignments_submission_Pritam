{
  "nbformat": 4,
  "nbformat_minor": 0,
  "metadata": {
    "colab": {
      "name": "Method_Assignment_Pritam_Dey.ipynb",
      "provenance": [],
      "authorship_tag": "ABX9TyP76uXfAHQvScQxJVSR+7pW",
      "include_colab_link": true
    },
    "kernelspec": {
      "name": "python3",
      "display_name": "Python 3"
    },
    "language_info": {
      "name": "python"
    }
  },
  "cells": [
    {
      "cell_type": "markdown",
      "metadata": {
        "id": "view-in-github",
        "colab_type": "text"
      },
      "source": [
        "<a href=\"https://colab.research.google.com/github/thepritamdey/Assignments_submission_Pritam/blob/main/Method_Assignment_Pritam_Dey.ipynb\" target=\"_parent\"><img src=\"https://colab.research.google.com/assets/colab-badge.svg\" alt=\"Open In Colab\"/></a>"
      ]
    },
    {
      "cell_type": "markdown",
      "metadata": {
        "id": "Z8vynsh0afQL"
      },
      "source": [
        "#**Method Assignment**"
      ]
    },
    {
      "cell_type": "markdown",
      "metadata": {
        "id": "rytRWqxLki9k"
      },
      "source": [
        " **Strings** "
      ]
    },
    {
      "cell_type": "code",
      "metadata": {
        "id": "2wCZ5LkkejfR"
      },
      "source": [
        "str = \"Hi, pritam  dey\""
      ],
      "execution_count": 47,
      "outputs": []
    },
    {
      "cell_type": "code",
      "metadata": {
        "colab": {
          "base_uri": "https://localhost:8080/"
        },
        "id": "JqikPHn7fCiL",
        "outputId": "2f631c46-e201-486f-9b98-552bfd11097f"
      },
      "source": [
        "print(str.capitalize())\n",
        "print(str.title())\n",
        "print(str.upper())\n",
        "print(str.count(\"i\"))\n",
        "print(str.isalnum())"
      ],
      "execution_count": 51,
      "outputs": [
        {
          "output_type": "stream",
          "name": "stdout",
          "text": [
            "Hi, pritam  dey\n",
            "Hi, Pritam  Dey\n",
            "HI, PRITAM  DEY\n",
            "2\n",
            "False\n"
          ]
        }
      ]
    },
    {
      "cell_type": "markdown",
      "metadata": {
        "id": "3OVjU0ObkVPk"
      },
      "source": [
        "### List [ ]"
      ]
    },
    {
      "cell_type": "code",
      "metadata": {
        "id": "zIP4Qc2Qkfv0"
      },
      "source": [
        "lst = [1, \"pritam dey\", 5, 7, 'Good morring']"
      ],
      "execution_count": 61,
      "outputs": []
    },
    {
      "cell_type": "code",
      "metadata": {
        "colab": {
          "base_uri": "https://localhost:8080/"
        },
        "id": "wkTO9Y7Pk2MB",
        "outputId": "b091b90f-108a-4c0e-ab3b-dc96f7f78c5b"
      },
      "source": [
        "lst.append(\"python\")\n",
        "lst"
      ],
      "execution_count": 63,
      "outputs": [
        {
          "output_type": "execute_result",
          "data": {
            "text/plain": [
              "[1, 'pritam dey', 5, 7, 'Good morring', 'python', 'python']"
            ]
          },
          "metadata": {},
          "execution_count": 63
        }
      ]
    },
    {
      "cell_type": "code",
      "metadata": {
        "colab": {
          "base_uri": "https://localhost:8080/"
        },
        "id": "ShfnnNvLmXlT",
        "outputId": "84111e93-c670-4505-bb09-b3f0eb3e4375"
      },
      "source": [
        "lst.copy()"
      ],
      "execution_count": 65,
      "outputs": [
        {
          "output_type": "execute_result",
          "data": {
            "text/plain": [
              "[1, 'pritam dey', 5, 7, 'Good morring', 'python', 'python']"
            ]
          },
          "metadata": {},
          "execution_count": 65
        }
      ]
    },
    {
      "cell_type": "code",
      "metadata": {
        "colab": {
          "base_uri": "https://localhost:8080/"
        },
        "id": "X4qKw-armhth",
        "outputId": "c741cad7-1e2c-4b0d-eb55-682218dc1454"
      },
      "source": [
        "lst.index(7)"
      ],
      "execution_count": 69,
      "outputs": [
        {
          "output_type": "execute_result",
          "data": {
            "text/plain": [
              "3"
            ]
          },
          "metadata": {},
          "execution_count": 69
        }
      ]
    },
    {
      "cell_type": "code",
      "metadata": {
        "colab": {
          "base_uri": "https://localhost:8080/",
          "height": 35
        },
        "id": "NwHoVapTm4W3",
        "outputId": "20da20ee-c2d0-48f0-dbbf-d09db3a7e441"
      },
      "source": [
        "lst.pop()"
      ],
      "execution_count": 71,
      "outputs": [
        {
          "output_type": "execute_result",
          "data": {
            "application/vnd.google.colaboratory.intrinsic+json": {
              "type": "string"
            },
            "text/plain": [
              "'python'"
            ]
          },
          "metadata": {},
          "execution_count": 71
        }
      ]
    },
    {
      "cell_type": "code",
      "metadata": {
        "colab": {
          "base_uri": "https://localhost:8080/"
        },
        "id": "enK2NNNWnGH_",
        "outputId": "2039624e-0dcf-41cb-b1ea-c7b92a24cfbe"
      },
      "source": [
        "lst1 = [88,55,6,9,22,47,56]\n",
        "lst1.sort()\n",
        "lst1"
      ],
      "execution_count": 76,
      "outputs": [
        {
          "output_type": "execute_result",
          "data": {
            "text/plain": [
              "[6, 9, 22, 47, 55, 56, 88]"
            ]
          },
          "metadata": {},
          "execution_count": 76
        }
      ]
    },
    {
      "cell_type": "markdown",
      "metadata": {
        "id": "WUVckVvbnwPm"
      },
      "source": [
        "### Dictionary { key:value }"
      ]
    },
    {
      "cell_type": "code",
      "metadata": {
        "id": "og3K8MmIn-IL"
      },
      "source": [
        "dic = {\n",
        "    'name':'Pritam Dey',\n",
        "    'address':'Tripura',\n",
        "    'roll': 5,\n",
        "  }"
      ],
      "execution_count": 79,
      "outputs": []
    },
    {
      "cell_type": "code",
      "metadata": {
        "colab": {
          "base_uri": "https://localhost:8080/"
        },
        "id": "-RU2UxGjo4Dk",
        "outputId": "fbb9fde7-a2af-47d5-bbc4-eaee0f656232"
      },
      "source": [
        "dic.keys()"
      ],
      "execution_count": 81,
      "outputs": [
        {
          "output_type": "execute_result",
          "data": {
            "text/plain": [
              "dict_keys(['name', 'address', 'roll'])"
            ]
          },
          "metadata": {},
          "execution_count": 81
        }
      ]
    },
    {
      "cell_type": "code",
      "metadata": {
        "colab": {
          "base_uri": "https://localhost:8080/"
        },
        "id": "rvsJz6ZnpRxz",
        "outputId": "e28d0b6d-da4e-4c93-e78f-f5a8fd9dfd7a"
      },
      "source": [
        "dic.values()"
      ],
      "execution_count": 84,
      "outputs": [
        {
          "output_type": "execute_result",
          "data": {
            "text/plain": [
              "dict_values(['Pritam Dey', 'Tripura', 5])"
            ]
          },
          "metadata": {},
          "execution_count": 84
        }
      ]
    },
    {
      "cell_type": "code",
      "metadata": {
        "colab": {
          "base_uri": "https://localhost:8080/"
        },
        "id": "ERGC4junpfZY",
        "outputId": "33acaffe-8e79-42ff-f781-4e29c57600eb"
      },
      "source": [
        "dic.setdefault('roll')"
      ],
      "execution_count": 86,
      "outputs": [
        {
          "output_type": "execute_result",
          "data": {
            "text/plain": [
              "5"
            ]
          },
          "metadata": {},
          "execution_count": 86
        }
      ]
    },
    {
      "cell_type": "code",
      "metadata": {
        "colab": {
          "base_uri": "https://localhost:8080/"
        },
        "id": "GqmKL13cpuAn",
        "outputId": "53273308-c1d8-4fe3-da8a-90e710fa7ed1"
      },
      "source": [
        "dic.items()"
      ],
      "execution_count": 87,
      "outputs": [
        {
          "output_type": "execute_result",
          "data": {
            "text/plain": [
              "dict_items([('name', 'Pritam Dey'), ('address', 'Tripura'), ('roll', 5)])"
            ]
          },
          "metadata": {},
          "execution_count": 87
        }
      ]
    },
    {
      "cell_type": "code",
      "metadata": {
        "colab": {
          "base_uri": "https://localhost:8080/"
        },
        "id": "PTqdLXPopy6u",
        "outputId": "dad09198-e94e-4b8b-e466-ad6ec33d54bb"
      },
      "source": [
        "dic.update({'roll':'6'})\n",
        "dic"
      ],
      "execution_count": 90,
      "outputs": [
        {
          "output_type": "execute_result",
          "data": {
            "text/plain": [
              "{'address': 'Tripura', 'name': 'Pritam Dey', 'roll': '6'}"
            ]
          },
          "metadata": {},
          "execution_count": 90
        }
      ]
    },
    {
      "cell_type": "markdown",
      "metadata": {
        "id": "4jR_KB5KqfLx"
      },
      "source": [
        "### **Tuple** ( )"
      ]
    },
    {
      "cell_type": "code",
      "metadata": {
        "id": "1AFF-958qluA"
      },
      "source": [
        "tpl = (\"Hi\", 66, 750,'hello',66,845,66)"
      ],
      "execution_count": 94,
      "outputs": []
    },
    {
      "cell_type": "code",
      "metadata": {
        "colab": {
          "base_uri": "https://localhost:8080/"
        },
        "id": "syI26HiGrBQd",
        "outputId": "04223421-f19d-4eba-eaea-a98122db6a58"
      },
      "source": [
        "tpl.count(66)"
      ],
      "execution_count": 96,
      "outputs": [
        {
          "output_type": "execute_result",
          "data": {
            "text/plain": [
              "3"
            ]
          },
          "metadata": {},
          "execution_count": 96
        }
      ]
    },
    {
      "cell_type": "code",
      "metadata": {
        "colab": {
          "base_uri": "https://localhost:8080/"
        },
        "id": "V0efZJxbrPSF",
        "outputId": "53bec7d0-4b58-40f6-ca69-1795517c44b1"
      },
      "source": [
        "tpl.index(845)"
      ],
      "execution_count": 98,
      "outputs": [
        {
          "output_type": "execute_result",
          "data": {
            "text/plain": [
              "5"
            ]
          },
          "metadata": {},
          "execution_count": 98
        }
      ]
    },
    {
      "cell_type": "markdown",
      "metadata": {
        "id": "WpjIvoU9rdu1"
      },
      "source": [
        "### Set { }"
      ]
    },
    {
      "cell_type": "code",
      "metadata": {
        "id": "O358rCoQrlxn"
      },
      "source": [
        "st = {'dog','cat','car',66,88,99,75,14}\n",
        "pt = {'bmw','girl',84,96,99,'cat'}"
      ],
      "execution_count": 122,
      "outputs": []
    },
    {
      "cell_type": "code",
      "metadata": {
        "colab": {
          "base_uri": "https://localhost:8080/"
        },
        "id": "_RgFdNw6r-iA",
        "outputId": "63dc821a-7fe6-45dc-9a71-2b9204579fef"
      },
      "source": [
        "x = st.difference(pt)\n",
        "x # here similar values are removed"
      ],
      "execution_count": 123,
      "outputs": [
        {
          "output_type": "execute_result",
          "data": {
            "text/plain": [
              "{14, 66, 75, 88, 'car', 'dog'}"
            ]
          },
          "metadata": {},
          "execution_count": 123
        }
      ]
    },
    {
      "cell_type": "code",
      "metadata": {
        "colab": {
          "base_uri": "https://localhost:8080/"
        },
        "id": "P9eCcS98tgAr",
        "outputId": "9dd46d23-4827-4940-daa1-380a63ae3a16"
      },
      "source": [
        "y = st.isdisjoint(pt)\n",
        "y #found similar items"
      ],
      "execution_count": 124,
      "outputs": [
        {
          "output_type": "execute_result",
          "data": {
            "text/plain": [
              "False"
            ]
          },
          "metadata": {},
          "execution_count": 124
        }
      ]
    },
    {
      "cell_type": "code",
      "metadata": {
        "colab": {
          "base_uri": "https://localhost:8080/"
        },
        "id": "lpdXYXHiuwwY",
        "outputId": "5ea7017a-9517-40b5-8d2e-20a530ceeca6"
      },
      "source": [
        "print(x.issuperset(pt)) #Returns whether this set contains another set or not"
      ],
      "execution_count": 125,
      "outputs": [
        {
          "output_type": "stream",
          "name": "stdout",
          "text": [
            "False\n"
          ]
        }
      ]
    },
    {
      "cell_type": "code",
      "metadata": {
        "colab": {
          "base_uri": "https://localhost:8080/"
        },
        "id": "x1KsqsxSwYKd",
        "outputId": "66d63897-f6bd-4f26-e1a2-547e350753c0"
      },
      "source": [
        "print(st.symmetric_difference(pt)) #returned set contains a mix of items that are not present in both sets."
      ],
      "execution_count": 127,
      "outputs": [
        {
          "output_type": "stream",
          "name": "stdout",
          "text": [
            "{66, 75, 14, 'bmw', 'dog', 84, 88, 96, 'girl', 'car'}\n"
          ]
        }
      ]
    },
    {
      "cell_type": "code",
      "metadata": {
        "colab": {
          "base_uri": "https://localhost:8080/"
        },
        "id": "EzKAviEVw6PN",
        "outputId": "cbd41aba-e292-439a-dc00-dfb5849c274a"
      },
      "source": [
        "(pt.discard(99))\n",
        "print(pt)"
      ],
      "execution_count": 131,
      "outputs": [
        {
          "output_type": "stream",
          "name": "stdout",
          "text": [
            "{96, 'girl', 'cat', 'bmw', 84}\n"
          ]
        }
      ]
    },
    {
      "cell_type": "code",
      "metadata": {
        "id": "5xcBKFM4xuYx"
      },
      "source": [
        ""
      ],
      "execution_count": null,
      "outputs": []
    }
  ]
}